{
 "cells": [
  {
   "cell_type": "markdown",
   "id": "48544238",
   "metadata": {},
   "source": [
    "# Remedy"
   ]
  },
  {
   "cell_type": "code",
   "execution_count": 5,
   "id": "62668bd3",
   "metadata": {},
   "outputs": [
    {
     "name": "stderr",
     "output_type": "stream",
     "text": [
      "C:\\Users\\ABHIJIT DESHPANDE\\AppData\\Local\\Temp\\ipykernel_17700\\417756498.py:52: GradioDeprecationWarning: Usage of gradio.inputs is deprecated, and will not be supported in the future, please import your component from gradio.components\n",
      "  input = gr.inputs.Image(shape=(400, 400))\n",
      "C:\\Users\\ABHIJIT DESHPANDE\\AppData\\Local\\Temp\\ipykernel_17700\\417756498.py:52: GradioDeprecationWarning: `optional` parameter is deprecated, and it has no effect\n",
      "  input = gr.inputs.Image(shape=(400, 400))\n",
      "C:\\Users\\ABHIJIT DESHPANDE\\AppData\\Local\\Temp\\ipykernel_17700\\417756498.py:55: GradioDeprecationWarning: Usage of gradio.outputs is deprecated, and will not be supported in the future, please import your components from gradio.components\n",
      "  output1 = gr.outputs.Label(num_top_classes=1)\n",
      "C:\\Users\\ABHIJIT DESHPANDE\\AppData\\Local\\Temp\\ipykernel_17700\\417756498.py:55: GradioUnusedKwargWarning: You have unused kwarg parameters in Label, please remove them: {'type': 'auto'}\n",
      "  output1 = gr.outputs.Label(num_top_classes=1)\n",
      "C:\\Users\\ABHIJIT DESHPANDE\\AppData\\Local\\Temp\\ipykernel_17700\\417756498.py:58: GradioDeprecationWarning: Usage of gradio.outputs is deprecated, and will not be supported in the future, please import your components from gradio.components\n",
      "  output2 = gr.outputs.Textbox(label=\"Remedy\")\n"
     ]
    },
    {
     "name": "stdout",
     "output_type": "stream",
     "text": [
      "Running on local URL:  http://127.0.0.1:7864\n",
      "\n",
      "To create a public link, set `share=True` in `launch()`.\n"
     ]
    },
    {
     "data": {
      "text/html": [
       "<div><iframe src=\"http://127.0.0.1:7864/\" width=\"100%\" height=\"500\" allow=\"autoplay; camera; microphone; clipboard-read; clipboard-write;\" frameborder=\"0\" allowfullscreen></iframe></div>"
      ],
      "text/plain": [
       "<IPython.core.display.HTML object>"
      ]
     },
     "metadata": {},
     "output_type": "display_data"
    },
    {
     "data": {
      "text/plain": []
     },
     "execution_count": 5,
     "metadata": {},
     "output_type": "execute_result"
    },
    {
     "name": "stdout",
     "output_type": "stream",
     "text": [
      "1/1 [==============================] - 1s 566ms/step\n"
     ]
    },
    {
     "name": "stderr",
     "output_type": "stream",
     "text": [
      "C:\\Users\\ABHIJIT DESHPANDE\\anaconda3\\lib\\site-packages\\gradio\\components\\button.py:89: UserWarning: Using the update method is deprecated. Simply return a new object instead, e.g. `return gr.Button(...)` instead of `return gr.Button.update(...)`.\n",
      "  warnings.warn(\n"
     ]
    },
    {
     "name": "stdout",
     "output_type": "stream",
     "text": [
      "1/1 [==============================] - 0s 450ms/step\n"
     ]
    },
    {
     "name": "stderr",
     "output_type": "stream",
     "text": [
      "C:\\Users\\ABHIJIT DESHPANDE\\anaconda3\\lib\\site-packages\\gradio\\components\\button.py:89: UserWarning: Using the update method is deprecated. Simply return a new object instead, e.g. `return gr.Button(...)` instead of `return gr.Button.update(...)`.\n",
      "  warnings.warn(\n"
     ]
    },
    {
     "name": "stdout",
     "output_type": "stream",
     "text": [
      "1/1 [==============================] - 0s 484ms/step\n"
     ]
    }
   ],
   "source": [
    "# Import the Gradio library\n",
    "import gradio as gr\n",
    "\n",
    "# Import other necessary libraries\n",
    "import os\n",
    "import numpy as np\n",
    "import tensorflow as tf\n",
    "from tensorflow.keras.preprocessing import image\n",
    "\n",
    "# Load the trained model\n",
    "model = tf.keras.models.load_model('F:/College/Years/B.Tech/Major_project/Model_resources/pest_and_insect_detection_model.h5')\n",
    "\n",
    "# Define a dictionary to map class indices to disease names\n",
    "class_names = {0: 'Gumosis', 1: 'Healthy', 2: 'Red Rust'}\n",
    "\n",
    "# Define the remedies dictionary\n",
    "remedies = {\n",
    "    \"Gumosis\": {\n",
    "        \"fungicides\": [\"Bordeaux mixture (1%)\", \"Copper oxychloride (0.3%)\", \"Mancozeb (0.3%)\"],\n",
    "        \"other_treatments\": [\"Remove and destroy affected branches.\", \"Apply a copper-based fungicide to the cut surfaces.\", \"Apply a balanced fertilizer to the tree.\", \"Water the tree regularly, but avoid overwatering.\"]\n",
    "    },\n",
    "    \"Healthy\": {\n",
    "        \"preventive_measures\": [\"Plant cashew trees in well-drained soil.\", \"Avoid overwatering the trees.\", \"Apply a balanced fertilizer to the trees regularly.\", \"Inspect the trees regularly for pests and diseases.\"],\n",
    "        \"treatment_of_pests_and_diseases\": [\"Use fungicides and pesticides as needed.\", \"Remove and destroy affected branches.\", \"Apply copper-based fungicides to the cut surfaces.\"]\n",
    "    },\n",
    "    \"Red Rust\": {\n",
    "        \"fungicides\": [\"Bordeaux mixture (1%)\", \"Copper oxychloride (0.3%)\", \"Mancozeb (0.3%)\"],\n",
    "        \"other_treatments\": [\"Remove and destroy affected leaves.\", \"Spray the tree with a copper-based fungicide.\", \"Apply a balanced fertilizer to the tree.\", \"Water the tree regularly, but avoid overwatering.\"]\n",
    "    }\n",
    "}\n",
    "\n",
    "# Define a function that takes an image as input and returns the predicted disease name and the remedies as output\n",
    "def predict(image):\n",
    "  # Preprocess the image\n",
    "  image = image.reshape((-1, 400, 400, 3))\n",
    "  image = tf.keras.applications.vgg16.preprocess_input(image)\n",
    "  # Predict the class using the model\n",
    "  prediction = model.predict(image).flatten()\n",
    "  predicted_class = np.argmax(prediction)\n",
    "  # Get the disease name from the dictionary\n",
    "  detected_disease = class_names[predicted_class]\n",
    "  # Get the remedies for the detected disease from the dictionary\n",
    "  disease_remedies = remedies.get(detected_disease, {})\n",
    "  fungicides = disease_remedies.get(\"fungicides\", [])\n",
    "  other_treatments = disease_remedies.get(\"other_treatments\", [])\n",
    "  # Format the remedies as a single string\n",
    "  remedy = f\"Fungicides:\\n{', '.join(fungicides)}\\n\\nOther treatments:\\n{', '.join(other_treatments)}\"\n",
    "  # Return the disease name and the remedy as output\n",
    "  return detected_disease, remedy\n",
    "\n",
    "# Create an image input component with shape (400, 400)\n",
    "input = gr.inputs.Image(shape=(400, 400))\n",
    "\n",
    "# Create a label output component with one top class\n",
    "output1 = gr.outputs.Label(num_top_classes=1)\n",
    "\n",
    "# Create a textbox output component with label \"Remedy\"\n",
    "output2 = gr.outputs.Textbox(label=\"Remedy\")\n",
    "\n",
    "# Create an interface object with title and description\n",
    "interface = gr.Interface(fn=predict, inputs=input, outputs=[output1, output2], title=\"Pest and Insect Detection\", description=\"A model that classifies images of cashew leaves into three classes: Gumosis, Healthy, or Red Rust and suggests remedies.\")\n",
    "\n",
    "# Launch the interface\n",
    "interface.launch()\n"
   ]
  },
  {
   "cell_type": "markdown",
   "id": "ad0ddec8",
   "metadata": {},
   "source": [
    "# Remedy suggested"
   ]
  },
  {
   "cell_type": "code",
   "execution_count": 10,
   "id": "620b445a",
   "metadata": {},
   "outputs": [
    {
     "name": "stderr",
     "output_type": "stream",
     "text": [
      "C:\\Users\\ABHIJIT DESHPANDE\\AppData\\Local\\Temp\\ipykernel_16672\\3867500029.py:27: GradioDeprecationWarning: Usage of gradio.inputs is deprecated, and will not be supported in the future, please import your component from gradio.components\n",
      "  input = gr.inputs.Image(shape=(img_width, img_height))\n",
      "C:\\Users\\ABHIJIT DESHPANDE\\AppData\\Local\\Temp\\ipykernel_16672\\3867500029.py:27: GradioDeprecationWarning: `optional` parameter is deprecated, and it has no effect\n",
      "  input = gr.inputs.Image(shape=(img_width, img_height))\n",
      "C:\\Users\\ABHIJIT DESHPANDE\\AppData\\Local\\Temp\\ipykernel_16672\\3867500029.py:33: GradioDeprecationWarning: Usage of gradio.outputs is deprecated, and will not be supported in the future, please import your components from gradio.components\n",
      "  output = gr.outputs.Label(num_top_classes=3)\n",
      "C:\\Users\\ABHIJIT DESHPANDE\\AppData\\Local\\Temp\\ipykernel_16672\\3867500029.py:33: GradioUnusedKwargWarning: You have unused kwarg parameters in Label, please remove them: {'type': 'auto'}\n",
      "  output = gr.outputs.Label(num_top_classes=3)\n"
     ]
    },
    {
     "name": "stdout",
     "output_type": "stream",
     "text": [
      "Running on local URL:  http://127.0.0.1:7865\n",
      "\n",
      "To create a public link, set `share=True` in `launch()`.\n"
     ]
    },
    {
     "data": {
      "text/html": [
       "<div><iframe src=\"http://127.0.0.1:7865/\" width=\"100%\" height=\"500\" allow=\"autoplay; camera; microphone; clipboard-read; clipboard-write;\" frameborder=\"0\" allowfullscreen></iframe></div>"
      ],
      "text/plain": [
       "<IPython.core.display.HTML object>"
      ]
     },
     "metadata": {},
     "output_type": "display_data"
    },
    {
     "data": {
      "text/plain": []
     },
     "execution_count": 10,
     "metadata": {},
     "output_type": "execute_result"
    },
    {
     "name": "stdout",
     "output_type": "stream",
     "text": [
      "1/1 [==============================] - 1s 948ms/step\n"
     ]
    },
    {
     "name": "stderr",
     "output_type": "stream",
     "text": [
      "Traceback (most recent call last):\n",
      "  File \"C:\\Users\\ABHIJIT DESHPANDE\\anaconda3\\lib\\site-packages\\gradio\\routes.py\", line 534, in predict\n",
      "    output = await route_utils.call_process_api(\n",
      "  File \"C:\\Users\\ABHIJIT DESHPANDE\\anaconda3\\lib\\site-packages\\gradio\\route_utils.py\", line 226, in call_process_api\n",
      "    output = await app.get_blocks().process_api(\n",
      "  File \"C:\\Users\\ABHIJIT DESHPANDE\\anaconda3\\lib\\site-packages\\gradio\\blocks.py\", line 1554, in process_api\n",
      "    result = await self.call_function(\n",
      "  File \"C:\\Users\\ABHIJIT DESHPANDE\\anaconda3\\lib\\site-packages\\gradio\\blocks.py\", line 1192, in call_function\n",
      "    prediction = await anyio.to_thread.run_sync(\n",
      "  File \"C:\\Users\\ABHIJIT DESHPANDE\\anaconda3\\lib\\site-packages\\anyio\\to_thread.py\", line 33, in run_sync\n",
      "    return await get_asynclib().run_sync_in_worker_thread(\n",
      "  File \"C:\\Users\\ABHIJIT DESHPANDE\\anaconda3\\lib\\site-packages\\anyio\\_backends\\_asyncio.py\", line 877, in run_sync_in_worker_thread\n",
      "    return await future\n",
      "  File \"C:\\Users\\ABHIJIT DESHPANDE\\anaconda3\\lib\\site-packages\\anyio\\_backends\\_asyncio.py\", line 807, in run\n",
      "    result = context.run(func, *args)\n",
      "  File \"C:\\Users\\ABHIJIT DESHPANDE\\anaconda3\\lib\\site-packages\\gradio\\utils.py\", line 659, in wrapper\n",
      "    response = f(*args, **kwargs)\n",
      "  File \"C:\\Users\\ABHIJIT DESHPANDE\\AppData\\Local\\Temp\\ipykernel_16672\\3867500029.py\", line 17, in predict\n",
      "    confidences = {labels[i]: float(prediction[i]) for i in range(num_classes)}\n",
      "NameError: name 'num_classes' is not defined\n"
     ]
    }
   ],
   "source": [
    "# Import the gradio library\n",
    "import gradio as gr\n",
    "\n",
    "remedies = {\n",
    "    \"Gumosis\": [\"Bordeaux mixture (1%)\", \"Copper oxychloride (0.3%)\", \"Mancozeb (0.3%)\", \"Remove and destroy infected leaves and branches\", \"Use pheromone traps or biological control agents\"],\n",
    "    \"healthy\": [\"No remedy needed\"],\n",
    "    \"Red Rust\": [\"Bordeaux mixture (1%)\", \"Copper oxychloride (0.3%)\", \"Mancozeb (0.3%)\", \"Prune and burn diseased plant parts\", \"Improve air circulation and drainage\"]\n",
    "}\n",
    "\n",
    "# Define a function that takes an image as input and returns the predicted class and confidence as output\n",
    "def predict(image):\n",
    "  # Preprocess the image\n",
    "  image = image.reshape((-1, img_width, img_height, 3))\n",
    "  image = tf.keras.applications.vgg16.preprocess_input(image)\n",
    "  # Predict the class and confidence using the model\n",
    "  prediction = model.predict(image).flatten()\n",
    "  confidences = {labels[i]: float(prediction[i]) for i in range(num_classes)}\n",
    "  max_class = max(confidences, key=confidences.get)\n",
    "    \n",
    "  # Get the remedies for the class from the dictionary\n",
    "  remedy = remedies[max_class]\n",
    "  print(remedy)\n",
    "  # Return the class and confidence as output\n",
    "  return confidences\n",
    "\n",
    "# Create an image input component\n",
    "input = gr.inputs.Image(shape=(img_width, img_height))\n",
    "\n",
    "labels = [\"Gumosis\", \"healthy\", \"Red Rust\"]\n",
    "\n",
    "\n",
    "# Create a label output component\n",
    "output = gr.outputs.Label(num_top_classes=3)\n",
    "\n",
    "# Create an interface object\n",
    "interface = gr.Interface(fn=predict, inputs=input, outputs=output, title=\"Pest and Insect Detection\", description=\"A model that classifies images of cashew leaves into three classes: healthy, pest-infected, or insect-infected.\")\n",
    "\n",
    "# Launch the interface\n",
    "interface.launch()\n"
   ]
  },
  {
   "cell_type": "code",
   "execution_count": 9,
   "id": "3511ce31",
   "metadata": {},
   "outputs": [],
   "source": [
    "# Import TensorFlow and Keras\n",
    "import tensorflow as tf\n",
    "from tensorflow import keras\n",
    "\n",
    "# Load the model from HDF5 file\n",
    "model = tf.keras.models.load_model('F:/College/Years/B.Tech/Major_project/Model_resources/pest_and_insect_detection_model.h5')\n"
   ]
  },
  {
   "cell_type": "code",
   "execution_count": null,
   "id": "201b1748",
   "metadata": {},
   "outputs": [],
   "source": []
  }
 ],
 "metadata": {
  "kernelspec": {
   "display_name": "Python 3 (ipykernel)",
   "language": "python",
   "name": "python3"
  },
  "language_info": {
   "codemirror_mode": {
    "name": "ipython",
    "version": 3
   },
   "file_extension": ".py",
   "mimetype": "text/x-python",
   "name": "python",
   "nbconvert_exporter": "python",
   "pygments_lexer": "ipython3",
   "version": "3.9.12"
  }
 },
 "nbformat": 4,
 "nbformat_minor": 5
}
